{
 "cells": [
  {
   "cell_type": "code",
   "execution_count": 1,
   "id": "25ed32ec-fd1c-48c8-8c5e-ee34b59a6dfe",
   "metadata": {},
   "outputs": [],
   "source": [
    "import pandas as pd\n",
    "import numpy as np\n",
    "import seaborn as sns\n",
    "import matplotlib.pyplot as plt\n",
    "import tensorflow as tf\n",
    "from tensorflow.keras.layers import Dense,Conv2D,MaxPooling2D,Flatten,Dropout\n",
    "from tensorflow.keras.preprocessing.image import ImageDataGenerator"
   ]
  },
  {
   "cell_type": "markdown",
   "id": "8b9317ff-eb4b-40af-9b87-f62c0d7b7c0f",
   "metadata": {},
   "source": [
    "# **Data Preprocessing**\n",
    "   - Image Augmentation For Training\n",
    "   - Image Augmentation For Testing\n",
    "# **Bulinding CNN Model**\n",
    "   - Conv2 layer\n",
    "   - MaxPooling\n",
    "   - Flatten\n",
    "   - Full Contection\n",
    "\n"
   ]
  },
  {
   "cell_type": "code",
   "execution_count": 2,
   "id": "b9a15270-9def-4b71-ae41-0c2904f50787",
   "metadata": {},
   "outputs": [],
   "source": [
    "Aug_train=ImageDataGenerator(rescale=1./255,rotation_range=20,shear_range=0.2,zoom_range=0.2,horizontal_flip=True)"
   ]
  },
  {
   "cell_type": "code",
   "execution_count": 3,
   "id": "872640ef-9767-4eb5-8d59-8911a015dbb5",
   "metadata": {},
   "outputs": [
    {
     "name": "stdout",
     "output_type": "stream",
     "text": [
      "Found 47009 images belonging to 2 classes.\n"
     ]
    }
   ],
   "source": [
    "df_train=Aug_train.flow_from_directory('Training',target_size=(64,64),batch_size = 32)"
   ]
  },
  {
   "cell_type": "code",
   "execution_count": 4,
   "id": "ed3083f9-9941-40db-9256-d95d5a853e35",
   "metadata": {},
   "outputs": [],
   "source": [
    "AugTest=ImageDataGenerator(rescale=1./255)"
   ]
  },
  {
   "cell_type": "code",
   "execution_count": 5,
   "id": "523c323d-f7f4-44b0-a3a4-5bfd70451ef0",
   "metadata": {},
   "outputs": [
    {
     "name": "stdout",
     "output_type": "stream",
     "text": [
      "Found 11649 images belonging to 2 classes.\n"
     ]
    }
   ],
   "source": [
    "df_test=AugTest.flow_from_directory('Validation',target_size=(64,64),batch_size = 32)"
   ]
  },
  {
   "cell_type": "markdown",
   "id": "20e0b632-35ab-4797-8afd-1bed1a202f16",
   "metadata": {},
   "source": [
    "## **CNN Model**"
   ]
  },
  {
   "cell_type": "code",
   "execution_count": 6,
   "id": "4ff63ad2-8170-4a90-805e-e7e224331a62",
   "metadata": {},
   "outputs": [
    {
     "name": "stderr",
     "output_type": "stream",
     "text": [
      "C:\\Users\\Administrator\\AppData\\Local\\Programs\\Python\\Python310\\lib\\site-packages\\keras\\src\\layers\\convolutional\\base_conv.py:107: UserWarning: Do not pass an `input_shape`/`input_dim` argument to a layer. When using Sequential models, prefer using an `Input(shape)` object as the first layer in the model instead.\n",
      "  super().__init__(activity_regularizer=activity_regularizer, **kwargs)\n"
     ]
    }
   ],
   "source": [
    "CNN=tf.keras.models.Sequential([\n",
    "     # Convolutional layers\n",
    "        Conv2D(32, (3, 3), activation=\"relu\", input_shape=[64,64,3]),\n",
    "        MaxPooling2D((2, 2)),\n",
    "        Conv2D(64, (3, 3), activation=\"relu\"),\n",
    "        MaxPooling2D((2, 2)),\n",
    "\n",
    "        # Fully connected layers\n",
    "        Flatten(),\n",
    "        Dense(128, activation=\"relu\"),\n",
    "        Dense(2, activation=\"sigmoid\"),  # Output layer\n",
    "])"
   ]
  },
  {
   "cell_type": "code",
   "execution_count": 7,
   "id": "6a4ffe68-dd82-43eb-a656-c0697d4ce754",
   "metadata": {},
   "outputs": [],
   "source": [
    "CNN.compile(optimizer='adam',loss='binary_crossentropy',metrics=['accuracy'])"
   ]
  },
  {
   "cell_type": "code",
   "execution_count": 8,
   "id": "b6920c68-0eb4-4f7e-82e7-63d07dfc573a",
   "metadata": {},
   "outputs": [
    {
     "name": "stderr",
     "output_type": "stream",
     "text": [
      "C:\\Users\\Administrator\\AppData\\Local\\Programs\\Python\\Python310\\lib\\site-packages\\keras\\src\\trainers\\data_adapters\\py_dataset_adapter.py:121: UserWarning: Your `PyDataset` class should call `super().__init__(**kwargs)` in its constructor. `**kwargs` can include `workers`, `use_multiprocessing`, `max_queue_size`. Do not pass these arguments to `fit()`, as they will be ignored.\n",
      "  self._warn_if_super_not_called()\n"
     ]
    },
    {
     "name": "stdout",
     "output_type": "stream",
     "text": [
      "Epoch 1/5\n",
      "\u001b[1m1470/1470\u001b[0m \u001b[32m━━━━━━━━━━━━━━━━━━━━\u001b[0m\u001b[37m\u001b[0m \u001b[1m197s\u001b[0m 133ms/step - accuracy: 0.8061 - loss: 0.4104 - val_accuracy: 0.9362 - val_loss: 0.1673\n",
      "Epoch 2/5\n",
      "\u001b[1m1470/1470\u001b[0m \u001b[32m━━━━━━━━━━━━━━━━━━━━\u001b[0m\u001b[37m\u001b[0m \u001b[1m197s\u001b[0m 134ms/step - accuracy: 0.9170 - loss: 0.2096 - val_accuracy: 0.9474 - val_loss: 0.1412\n",
      "Epoch 3/5\n",
      "\u001b[1m1470/1470\u001b[0m \u001b[32m━━━━━━━━━━━━━━━━━━━━\u001b[0m\u001b[37m\u001b[0m \u001b[1m195s\u001b[0m 133ms/step - accuracy: 0.9359 - loss: 0.1733 - val_accuracy: 0.9562 - val_loss: 0.1170\n",
      "Epoch 4/5\n",
      "\u001b[1m1470/1470\u001b[0m \u001b[32m━━━━━━━━━━━━━━━━━━━━\u001b[0m\u001b[37m\u001b[0m \u001b[1m198s\u001b[0m 135ms/step - accuracy: 0.9385 - loss: 0.1662 - val_accuracy: 0.9578 - val_loss: 0.1152\n",
      "Epoch 5/5\n",
      "\u001b[1m1470/1470\u001b[0m \u001b[32m━━━━━━━━━━━━━━━━━━━━\u001b[0m\u001b[37m\u001b[0m \u001b[1m212s\u001b[0m 144ms/step - accuracy: 0.9431 - loss: 0.1513 - val_accuracy: 0.9591 - val_loss: 0.1166\n"
     ]
    },
    {
     "data": {
      "text/plain": [
       "<keras.src.callbacks.history.History at 0x22a2f2336a0>"
      ]
     },
     "execution_count": 8,
     "metadata": {},
     "output_type": "execute_result"
    }
   ],
   "source": [
    "CNN.fit(x=df_train,validation_data=df_test,epochs=5)"
   ]
  },
  {
   "cell_type": "code",
   "execution_count": 15,
   "id": "223e4871-9b50-43ed-b28d-0ec00c79c4df",
   "metadata": {},
   "outputs": [
    {
     "name": "stderr",
     "output_type": "stream",
     "text": [
      "WARNING:absl:You are saving your model as an HDF5 file via `model.save()` or `keras.saving.save_model(model)`. This file format is considered legacy. We recommend using instead the native Keras format, e.g. `model.save('my_model.keras')` or `keras.saving.save_model(model, 'my_model.keras')`. \n"
     ]
    }
   ],
   "source": [
    "CNN.save('Model.h5')"
   ]
  },
  {
   "cell_type": "code",
   "execution_count": 18,
   "id": "0f92d03c-85f7-4c7f-8730-5eb8b8b42a59",
   "metadata": {},
   "outputs": [],
   "source": [
    "np.save('class_indices.npy', df_train.class_indices)\n"
   ]
  },
  {
   "cell_type": "code",
   "execution_count": null,
   "id": "bb99abf3-ca3e-4c37-a78a-e7fa906c20b7",
   "metadata": {},
   "outputs": [],
   "source": []
  }
 ],
 "metadata": {
  "kernelspec": {
   "display_name": "Python 3 (ipykernel)",
   "language": "python",
   "name": "python3"
  },
  "language_info": {
   "codemirror_mode": {
    "name": "ipython",
    "version": 3
   },
   "file_extension": ".py",
   "mimetype": "text/x-python",
   "name": "python",
   "nbconvert_exporter": "python",
   "pygments_lexer": "ipython3",
   "version": "3.10.2"
  }
 },
 "nbformat": 4,
 "nbformat_minor": 5
}
